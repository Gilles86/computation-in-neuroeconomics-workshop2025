{
 "cells": [
  {
   "cell_type": "code",
   "execution_count": null,
   "id": "d75f7890",
   "metadata": {},
   "outputs": [],
   "source": [
    "import pandas as pd\n",
    "import numpy as np\n",
    "import matplotlib.pyplot as plt\n",
    "import seaborn as sns\n",
    "import matplotlib.pyplot as plt\n",
    "from pathlib import Path"
   ]
  },
  {
   "cell_type": "markdown",
   "id": "a6730320",
   "metadata": {},
   "source": [
    "# Assignment: Implementing and Fitting PRF Models\n",
    "\n",
    "---\n",
    "## **Objective**\n",
    "Implement a **Population Receptive Field (PRF) model** using **TensorFlow, PyTorch, or JAX**. Start with grid search, then refine with gradient descent, and compare methods.\n",
    "\n",
    "---\n",
    "## **Background**\n",
    "A PRF models visual cortex responses as a 2D Gaussian:\n",
    "$$\n",
    "f(S_t; \\theta) = A \\cdot \\sum_{x,y} \\left[ \\exp\\left(-\\frac{(x - x_0)^2 + (y - y_0)^2}{2\\sigma^2}\\right) \\cdot S_t(x,y) \\right] + b\n",
    "$$\n",
    "where $\\theta = \\{x_0, y_0, \\sigma, A, b\\}$.\n",
    "\n",
    "---\n",
    "## **Data**\n",
    "You are provided with:\n",
    "- `stimulus`: (n_timepoints, n_pixels)\n",
    "- `convolved_stimulus`: (n_timepoints, n_pixels)\n",
    "- `v1_ts`: (n_timepoints, n_voxels)\n",
    "- `x_coordinates`, `y_coordinates`: (n_pixels_x, n_pixels_y)\n",
    "\n",
    "---\n",
    "## **Tasks**\n",
    "\n",
    "### **1. Stimulus Animation (Warm-up)**\n",
    "Create an animation of the raw stimulus using `matplotlib.animation.FuncAnimation`.\n",
    "\n",
    "### **2. Implement PRF Model**\n",
    "Choose ONE framework (TensorFlow/PyTorch/JAX) and implement:\n",
    "- A function to compute the 2D Gaussian PRF\n",
    "- Vectorized prediction of BOLD responses\n",
    "- Use broadcasting for efficient computation\n",
    "\n",
    "### **3. Fit PRF Model**\n",
    "#### **A. Grid Search**\n",
    "- Define parameter grids for {x₀, y₀, σ, A, b}\n",
    "- Evaluate using R² score\n",
    "- Find best-fitting parameters\n",
    "\n",
    "#### **B. Gradient Descent**\n",
    "- Initialize with grid search results\n",
    "- Minimize negative R² using Adam optimizer\n",
    "- Compare convergence speed\n",
    "\n",
    "---\n",
    "### **4. Extend to All Voxels (Bonus)**\n",
    "- Fit all voxels simultaneously\n",
    "- Create maps of PRF centers and R² values\n",
    "\n",
    "### **5. Mexican Hat Model (New Bonus)**\n",
    "Implement a **Mexican hat model** where:\n",
    "$$\n",
    "f(x,y) = A_1 \\exp\\left(-\\frac{(x-x_0)^2 + (y-y_0)^2}{2\\sigma_1^2}\\right) - A_2 \\exp\\left(-\\frac{(x-x_0)^2 + (y-y_0)^2}{2\\sigma_2^2}\\right) + b\n",
    "$$\n",
    "where $\\sigma_1 < \\sigma_2$ and $A_1 > A_2 > 0$\n",
    "\n",
    "Requirements:\n",
    "1. Implement the Mexican hat function\n",
    "2. Fit to at least one voxel\n",
    "3. Compare with standard Gaussian PRF\n",
    "4. Visualize the center-surround pattern\n",
    "\n",
    "---\n",
    "### **6. Brain Data (Advanced Bonus)**\n",
    "- Come get real brain data\n",
    "- Apply your best model\n",
    "\n",
    "---\n",
    "## **Deliverables**\n",
    "1. Jupyter notebook with your implementation\n",
    "2. Stimulus animation\n",
    "3. PRF visualizations and R² values\n",
    "4. (Bonus) Mexican hat model comparison\n",
    "5. (Advanced) Brain data results\n",
    "\n",
    "---\n",
    "## **Tips**\n",
    "- Use broadcasting for efficiency\n",
    "- Start with single voxel, then extend\n",
    "- Plot intermediate results\n",
    "- Vectorize operations\n"
   ]
  },
  {
   "cell_type": "markdown",
   "id": "adc3ea2e",
   "metadata": {},
   "source": [
    "## Load in data"
   ]
  },
  {
   "cell_type": "code",
   "execution_count": null,
   "id": "e6b1ad88",
   "metadata": {},
   "outputs": [],
   "source": [
    "assignment_data = np.load('resources/assignment3.npz')\n",
    "stimulus = assignment_data['stimulus']  # shape (n_timepoints, n_pixels)\n",
    "convolved_stimulus = assignment_data['convolved_stimulus']  # shape (n_timepoints, n_pixels)\n",
    "v1_ts = assignment_data['v1_ts']        # shape (n_timepoints, n_voxels)\n",
    "x_coordinates = assignment_data['x_coordinates']    # shape (n_pixels_x, n_pixels_y)\n",
    "y_coordinates = assignment_data['y_coordinates']    # shape (n_pixels_x, n_pixels_y)"
   ]
  },
  {
   "cell_type": "markdown",
   "id": "c3287b15",
   "metadata": {},
   "source": [
    "## Checkout data"
   ]
  },
  {
   "cell_type": "markdown",
   "id": "15ea9133",
   "metadata": {},
   "source": [
    "### Timeseries of BOLD data"
   ]
  },
  {
   "cell_type": "code",
   "execution_count": null,
   "id": "b9344f38",
   "metadata": {},
   "outputs": [],
   "source": [
    "v1_ts = pd.DataFrame(v1_ts, index=pd.Index(range(v1_ts.shape[0]), name='timepoint'), columns=pd.Index(range(v1_ts.shape[1]), name='voxel'))"
   ]
  },
  {
   "cell_type": "code",
   "execution_count": null,
   "id": "cf32f68e",
   "metadata": {},
   "outputs": [],
   "source": [
    "good_voxels = [82, 229, 538]\n",
    "v1_ts[good_voxels].plot()\n",
    "sns.despine()\n",
    "\n",
    "plt.savefig(Path('../slides/resources/prf_good_voxels.png').resolve(), transparent=False, bbox_inches='tight', dpi=300)"
   ]
  },
  {
   "cell_type": "code",
   "execution_count": null,
   "id": "c989d243",
   "metadata": {},
   "outputs": [],
   "source": [
    "v1_ts[89].shape"
   ]
  },
  {
   "cell_type": "code",
   "execution_count": null,
   "id": "7f12ae69",
   "metadata": {},
   "outputs": [],
   "source": [
    "import matplotlib.pyplot as plt\n",
    "\n",
    "plt.figure(figsize=(12, 4))\n",
    "\n",
    "plt.subplot(131)\n",
    "plt.imshow(stimulus[15], origin='lower')\n",
    "plt.title('Stimulus')\n",
    "\n",
    "plt.subplot(132)\n",
    "im = plt.imshow(x_coordinates, origin='lower')\n",
    "plt.colorbar(im, fraction=0.046)  # Smaller colorbar\n",
    "plt.title('X Coordinates')\n",
    "\n",
    "plt.subplot(133)\n",
    "im = plt.imshow(y_coordinates, origin='lower')\n",
    "plt.colorbar(im, fraction=0.046)  # Smaller colorbar\n",
    "plt.title('Y Coordinates')\n",
    "\n",
    "plt.tight_layout()\n",
    "plt.show()\n"
   ]
  },
  {
   "cell_type": "markdown",
   "id": "fc0591d4",
   "metadata": {},
   "source": [
    "# Super simple PRF example"
   ]
  },
  {
   "cell_type": "markdown",
   "id": "fc46b547",
   "metadata": {},
   "source": [
    "# Define PRF"
   ]
  },
  {
   "cell_type": "code",
   "execution_count": null,
   "id": "7a0b1a30",
   "metadata": {},
   "outputs": [],
   "source": [
    "\n",
    "dx = dy = (2*3.16) / 30\n",
    "def get_prf(x_coordinates, y_coordinates, mu_x, mu_y, sigma, amplitude, baseline, dx=dx, dy=dy):\n",
    "    gauss = amplitude * np.exp(-((x_coordinates - mu_x)**2 + (y_coordinates - mu_y)**2) / (2 * sigma**2)) + baseline\n",
    "    gauss *= dx * dy  # Scale by pixel area\n",
    "    return gauss\n",
    "\n",
    "# Example pRF parameters\n",
    "mu_x = -2.5\n",
    "mu_y = -1\n",
    "sigma = 1\n",
    "amplitude = 1\n",
    "baseline = 0\n",
    "\n",
    "plt.imshow(get_prf(x_coordinates, y_coordinates, mu_x, mu_y, sigma, amplitude, baseline), origin='lower')\n",
    "plt.title(f'Example PRF\\n$\\mu_x={mu_x}$, $\\mu_y={mu_y}$, $\\sigma={sigma}$')\n",
    "plt.colorbar()\n",
    "plt.savefig(Path('../slides/resources/prf_example.png').resolve(), transparent=True, bbox_inches='tight', dpi=300)"
   ]
  },
  {
   "cell_type": "markdown",
   "id": "ab248d80",
   "metadata": {},
   "source": [
    "# Define time series"
   ]
  },
  {
   "cell_type": "code",
   "execution_count": null,
   "id": "20955e70",
   "metadata": {},
   "outputs": [],
   "source": [
    "prf = get_prf(x_coordinates, y_coordinates, mu_x, mu_y, sigma, amplitude, baseline)\n",
    "# predicted_ts = stimulus @ prf.flatten()\n",
    "# plt.plot(predicted_ts)  # Predicted time series\n",
    "\n",
    "# Without taking into account HRF\n",
    "plt.plot((prf[np.newaxis, ...] * stimulus).sum(axis=(1, 2)), label='Prediction without HRF')  # shape (n_timepoints,))\n",
    "\n",
    "# With taking into account HRF\n",
    "plt.plot((prf[np.newaxis, ...] * convolved_stimulus).sum(axis=(1, 2)), label='Prediction with HRF')  # shape (n_timepoints,))"
   ]
  },
  {
   "cell_type": "markdown",
   "id": "c7bd640d",
   "metadata": {},
   "source": []
  },
  {
   "cell_type": "code",
   "execution_count": null,
   "id": "8b3aa813",
   "metadata": {},
   "outputs": [],
   "source": [
    "from sklearn.metrics import r2_score\n",
    "\n",
    "\n",
    "x_coords = x_coordinates\n",
    "y_coords = y_coordinates\n",
    "voxel_idx = 2\n",
    "\n",
    "# Example grid search\n",
    "x_grid = np.linspace(-5, 5, 5)\n",
    "y_grid = np.linspace(-5, 5, 5)\n",
    "sigma_grid = np.linspace(1, 5, 3)\n",
    "amplitude_grid = [0.05, 0.075, 0.01, 0.02]\n",
    "baseline_grid = np.linspace(-0.5, 0.5, 3)\n",
    "\n",
    "best_r2 = -np.inf\n",
    "best_params = None\n",
    "\n",
    "for mu_x in x_grid:\n",
    "    for mu_y in y_grid:\n",
    "        for sigma in sigma_grid:\n",
    "            for amplitude in amplitude_grid:\n",
    "                for baseline in baseline_grid:\n",
    "                    prf = get_prf(x_coords, y_coords, mu_x, mu_y, sigma, amplitude, baseline)\n",
    "                    predicted = (prf[np.newaxis, ...] * convolved_stimulus).sum(axis=(1, 2))\n",
    "                    r2 = r2_score(v1_ts[voxel_idx], predicted)\n",
    "                    if r2 > best_r2:\n",
    "                        best_r2 = r2\n",
    "                        best_params = (mu_x, mu_y, sigma, amplitude, baseline)"
   ]
  },
  {
   "cell_type": "code",
   "execution_count": null,
   "id": "1b6045a8",
   "metadata": {},
   "outputs": [],
   "source": [
    "v1_ts[voxel_idx].plot(label='Actual')\n",
    "plt.plot(predicted, label='Predicted')"
   ]
  },
  {
   "cell_type": "code",
   "execution_count": null,
   "id": "b0c55063",
   "metadata": {},
   "outputs": [],
   "source": []
  }
 ],
 "metadata": {
  "kernelspec": {
   "display_name": "soglio",
   "language": "python",
   "name": "python3"
  },
  "language_info": {
   "codemirror_mode": {
    "name": "ipython",
    "version": 3
   },
   "file_extension": ".py",
   "mimetype": "text/x-python",
   "name": "python",
   "nbconvert_exporter": "python",
   "pygments_lexer": "ipython3",
   "version": "3.11.13"
  }
 },
 "nbformat": 4,
 "nbformat_minor": 5
}
